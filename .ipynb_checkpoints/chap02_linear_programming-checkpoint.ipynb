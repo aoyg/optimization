{
 "cells": [
  {
   "cell_type": "markdown",
   "metadata": {},
   "source": [
    "# 線形計画"
   ]
  },
  {
   "cell_type": "markdown",
   "metadata": {},
   "source": [
    "$$\n",
    " \\begin{equation*}\n",
    "       \\begin{aligned}\n",
    "           & \\text{maximize}\n",
    "               & 20x_1 + 60x_2 \\\\\n",
    "           & \\text{subject to}\n",
    "               & 5x_1 + 4x_2 &\\le 80 \\\\\n",
    "               && 2x_1 + 4x_2 &\\le 40 \\\\\n",
    "               &&  2x_1 + 8x_2 &\\le 64 \\\\\n",
    "               &&  x_1, x_2 &\\ge 0 \\\\\n",
    "       \\end{aligned}\n",
    "   \\end{equation*}\n",
    "$$\n"
   ]
  },
  {
   "cell_type": "code",
   "execution_count": 1,
   "metadata": {},
   "outputs": [
    {
     "name": "stdout",
     "output_type": "stream",
     "text": [
      "\n",
      "ECOS 2.0.7 - (C) embotech GmbH, Zurich Switzerland, 2012-15. Web: www.embotech.com/ECOS\n",
      "\n",
      "It     pcost       dcost      gap   pres   dres    k/t    mu     step   sigma     IR    |   BT\n",
      " 0  -4.814e+02  -1.107e+03  +3e+02  2e-04  3e-01  1e+00  5e+01    ---    ---    1  1  - |  -  - \n",
      " 1  -5.152e+02  -5.723e+02  +3e+01  2e-05  3e-02  3e-01  5e+00  0.9056  4e-03   0  0  0 |  0  0\n",
      " 2  -5.199e+02  -5.250e+02  +3e+00  2e-06  3e-03  3e-02  4e-01  0.9101  2e-03   1  0  0 |  0  0\n",
      " 3  -5.200e+02  -5.201e+02  +3e-02  2e-08  3e-05  4e-04  5e-03  0.9890  1e-04   1  0  0 |  0  0\n",
      " 4  -5.200e+02  -5.200e+02  +3e-04  2e-10  4e-07  4e-06  5e-05  0.9890  1e-04   1  0  0 |  0  0\n",
      " 5  -5.200e+02  -5.200e+02  +3e-06  2e-12  4e-09  5e-08  6e-07  0.9890  1e-04   1  0  0 |  0  0\n",
      "\n",
      "OPTIMAL (within feastol=4.2e-09, reltol=6.7e-09, abstol=3.5e-06).\n",
      "Runtime: 0.000195 seconds.\n",
      "\n",
      "7.999999991113182 6.00000000081113\n"
     ]
    }
   ],
   "source": [
    "import cvxpy as cp  #まずはモジュールの読み込み\n",
    "x1, x2 = cp.Variable(), cp.Variable()  #決定変数を定義\n",
    "obj  = cp.Maximize( 20*x1 + 60*x2 )  #目的関数を記述\n",
    "cons = [5*x1 + 4*x2 <= 80,\n",
    "        2*x1 + 4*x2 <= 40,\n",
    "        2*x1 + 8*x2 <= 64,\n",
    "        x1 >= 0,\n",
    "        x2 >= 0]           #ここまでが制約の記述\n",
    "P = cp.Problem(obj, cons)  #最適化問題を定義\n",
    "P.solve(verbose=True)      #求解\n",
    "print(x1.value, x2.value)  #最適解の出力"
   ]
  },
  {
   "cell_type": "markdown",
   "metadata": {},
   "source": [
    "$x_1$と$x_2$の値が`x1.value`と`x2.value`に格納される。最適値は`P.value`に格納される。"
   ]
  },
  {
   "cell_type": "markdown",
   "metadata": {},
   "source": [
    "一般的に\n",
    "$$\n",
    " \\begin{equation*}\n",
    "       \\begin{aligned}\n",
    "           & \\text{maximize}\n",
    "               & \\boldsymbol{c}^T\\boldsymbol{x} \\\\\n",
    "           & \\text{subject to}\n",
    "               & A\\boldsymbol{x}&=\\boldsymbol{b} \\\\\n",
    "               && G\\boldsymbol{x} &\\leq \\boldsymbol{h} \\\\\n",
    "       \\end{aligned}\n",
    "   \\end{equation*}\n",
    "$$\n",
    "\n",
    "上記の問題をこの形式で表すには、以下のように定めればよい。\n",
    "$$\n",
    "\\boldsymbol{c} = \n",
    "    \\begin{bmatrix}\n",
    "       -20 \\\\\n",
    "       -60\n",
    "    \\end{bmatrix}, \n",
    "G = \n",
    "    \\begin{bmatrix}\n",
    "    5 & 4 \\\\\n",
    "    2 & 4 \\\\\n",
    "    2 & 8 \\\\\n",
    "    -1 & 0 \\\\\n",
    "    0 & -1\n",
    "    \\end{bmatrix}, \n",
    "\\boldsymbol{h} = \n",
    "    \\begin{bmatrix}\n",
    "    80 \\\\\n",
    "    40 \\\\\n",
    "    64 \\\\\n",
    "    0 \\\\\n",
    "    0\n",
    "    \\end{bmatrix}\n",
    "$$"
   ]
  },
  {
   "cell_type": "code",
   "execution_count": 16,
   "metadata": {},
   "outputs": [
    {
     "name": "stdout",
     "output_type": "stream",
     "text": [
      "\n",
      "ECOS 2.0.7 - (C) embotech GmbH, Zurich Switzerland, 2012-15. Web: www.embotech.com/ECOS\n",
      "\n",
      "It     pcost       dcost      gap   pres   dres    k/t    mu     step   sigma     IR    |   BT\n",
      " 0  -4.814e+02  -1.107e+03  +3e+02  2e-04  3e-01  1e+00  5e+01    ---    ---    1  1  - |  -  - \n",
      " 1  -5.152e+02  -5.723e+02  +3e+01  2e-05  3e-02  3e-01  5e+00  0.9056  4e-03   0  0  0 |  0  0\n",
      " 2  -5.199e+02  -5.250e+02  +3e+00  2e-06  3e-03  3e-02  4e-01  0.9101  2e-03   1  0  0 |  0  0\n",
      " 3  -5.200e+02  -5.201e+02  +3e-02  2e-08  3e-05  4e-04  5e-03  0.9890  1e-04   1  0  0 |  0  0\n",
      " 4  -5.200e+02  -5.200e+02  +3e-04  2e-10  4e-07  4e-06  5e-05  0.9890  1e-04   1  0  0 |  0  0\n",
      " 5  -5.200e+02  -5.200e+02  +3e-06  2e-12  4e-09  5e-08  6e-07  0.9890  1e-04   1  0  0 |  0  0\n",
      "\n",
      "OPTIMAL (within feastol=4.2e-09, reltol=6.7e-09, abstol=3.5e-06).\n",
      "Runtime: 0.000657 seconds.\n",
      "\n",
      "[7.99999999 6.        ]\n"
     ]
    }
   ],
   "source": [
    "import cvxpy as cp\n",
    "import numpy as np\n",
    "x = cp.Variable(2)\n",
    "c = np.array([ 20.0, 60.0 ]).T\n",
    "G = np.array([\n",
    "    [5.0, 4.0],\n",
    "    [2.0, 4.0],\n",
    "    [2.0, 8.0],\n",
    "    [-1.0,  0],\n",
    "    [0,  -1.0]])\n",
    "h = [80.0, 40.0, 64.0, 0.0, 0.0]\n",
    "obj  = cp.Maximize( c.T @ x )\n",
    "cons = [G @ x <= h]\n",
    "P = cp.Problem(obj, cons)\n",
    "P.solve(verbose=True)\n",
    "print(x.value)"
   ]
  },
  {
   "cell_type": "markdown",
   "metadata": {},
   "source": [
    "変数や制約が多い場合こちらの書き方の方が便利。"
   ]
  },
  {
   "cell_type": "markdown",
   "metadata": {},
   "source": [
    "$$\n",
    " \\begin{equation*}\n",
    "     \\begin{aligned}\n",
    "         & \\text{Max.}\n",
    "             & 70x_1+30x_2 \\\\\n",
    "         & \\text{s.t.}\n",
    "             & 5x_1+2x_2 \\le 80 \\\\\n",
    "             && 2x_1+3x_2 \\le 40 \\\\\n",
    "             && 3x_1+7x_2 \\le 70\\\\\n",
    "             && x_1 \\geq0, x_2 \\geq 0\\\\\n",
    "     \\end{aligned}\n",
    " \\end{equation*}\n",
    "$$"
   ]
  },
  {
   "cell_type": "code",
   "execution_count": 3,
   "metadata": {},
   "outputs": [
    {
     "name": "stdout",
     "output_type": "stream",
     "text": [
      "\n",
      "ECOS 2.0.7 - (C) embotech GmbH, Zurich Switzerland, 2012-15. Web: www.embotech.com/ECOS\n",
      "\n",
      "It     pcost       dcost      gap   pres   dres    k/t    mu     step   sigma     IR    |   BT\n",
      " 0  -8.130e+02  -2.121e+03  +6e+02  2e-04  4e-01  1e+00  1e+02    ---    ---    1  1  - |  -  - \n",
      " 1  -1.123e+03  -1.369e+03  +1e+02  3e-05  8e-02  1e+01  2e+01  0.8758  1e-01   0  0  0 |  0  0\n",
      " 2  -1.126e+03  -1.136e+03  +6e+00  1e-06  3e-03  4e-01  1e+00  0.9575  5e-04   0  0  0 |  0  0\n",
      " 3  -1.127e+03  -1.128e+03  +2e-01  5e-08  1e-04  2e-02  4e-02  0.9736  1e-02   1  0  0 |  0  0\n",
      " 4  -1.127e+03  -1.127e+03  +2e-03  6e-10  1e-06  2e-04  5e-04  0.9890  2e-04   0  0  0 |  0  0\n",
      " 5  -1.127e+03  -1.127e+03  +3e-05  7e-12  2e-08  2e-06  5e-06  0.9890  1e-04   1  0  0 |  0  0\n",
      " 6  -1.127e+03  -1.127e+03  +3e-07  8e-14  2e-10  2e-08  6e-08  0.9890  1e-04   1  0  0 |  0  0\n",
      "\n",
      "OPTIMAL (within feastol=1.7e-10, reltol=2.7e-10, abstol=3.1e-07).\n",
      "Runtime: 0.000238 seconds.\n",
      "\n",
      "x1 =  14.545454549604877\n",
      "x2 =  3.636363625361405\n"
     ]
    }
   ],
   "source": [
    "import cvxpy as cp\n",
    "\n",
    "x1, x2 = cp.Variable(), cp.Variable()\n",
    "obj = cp.Maximize( (70 * x1) + (30 * x2) ) # 目的関数\n",
    "cons = [(5 * x1) + (2 * x2) <= 80,\n",
    "       (2 * x1) + (3 * x2) <= 40,\n",
    "       (3 * x1) + (7 * x2) <= 70,\n",
    "       x1 >= 0,\n",
    "       x2 >= 0] # 制約条件\n",
    "\n",
    "P = cp.Problem(obj, cons)\n",
    "P.solve(verbose=True) # 求解\n",
    "print(\"x1 = \", x1.value)\n",
    "print(\"x2 = \", x2.value)"
   ]
  },
  {
   "cell_type": "markdown",
   "metadata": {},
   "source": [
    "行列形式で書くと"
   ]
  },
  {
   "cell_type": "code",
   "execution_count": 19,
   "metadata": {},
   "outputs": [
    {
     "name": "stdout",
     "output_type": "stream",
     "text": [
      "\n",
      "ECOS 2.0.7 - (C) embotech GmbH, Zurich Switzerland, 2012-15. Web: www.embotech.com/ECOS\n",
      "\n",
      "It     pcost       dcost      gap   pres   dres    k/t    mu     step   sigma     IR    |   BT\n",
      " 0  -8.130e+02  -2.121e+03  +6e+02  2e-04  4e-01  1e+00  1e+02    ---    ---    1  1  - |  -  - \n",
      " 1  -1.123e+03  -1.369e+03  +1e+02  3e-05  8e-02  1e+01  2e+01  0.8758  1e-01   0  0  0 |  0  0\n",
      " 2  -1.126e+03  -1.136e+03  +6e+00  1e-06  3e-03  4e-01  1e+00  0.9575  5e-04   0  0  0 |  0  0\n",
      " 3  -1.127e+03  -1.128e+03  +2e-01  5e-08  1e-04  2e-02  4e-02  0.9736  1e-02   1  0  0 |  0  0\n",
      " 4  -1.127e+03  -1.127e+03  +2e-03  6e-10  1e-06  2e-04  5e-04  0.9890  2e-04   0  0  0 |  0  0\n",
      " 5  -1.127e+03  -1.127e+03  +3e-05  7e-12  2e-08  2e-06  5e-06  0.9890  1e-04   1  0  0 |  0  0\n",
      " 6  -1.127e+03  -1.127e+03  +3e-07  8e-14  2e-10  2e-08  6e-08  0.9890  1e-04   1  0  0 |  0  0\n",
      "\n",
      "OPTIMAL (within feastol=1.7e-10, reltol=2.7e-10, abstol=3.1e-07).\n",
      "Runtime: 0.003591 seconds.\n",
      "\n",
      "[14.54545455  3.63636363]\n"
     ]
    }
   ],
   "source": [
    "import numpy as np\n",
    "x = cp.Variable(2)\n",
    "A = np.array([\n",
    "    [5.0, 2.0],\n",
    "    [2.0, 3.0],\n",
    "    [3.0, 7.0]])\n",
    "b = [80.0, 40.0, 70.0]\n",
    "c = np.array([ [70.0, 30.0] ]).T\n",
    "obj = cp.Maximize(c.T @ x)\n",
    "cons = [A @ x <= b, x >= 0]\n",
    "P = cp.Problem(obj, cons)\n",
    "P.solve(verbose=True)\n",
    "print(x.value)"
   ]
  },
  {
   "cell_type": "code",
   "execution_count": null,
   "metadata": {},
   "outputs": [],
   "source": []
  }
 ],
 "metadata": {
  "kernelspec": {
   "display_name": "Python 3",
   "language": "python",
   "name": "python3"
  },
  "language_info": {
   "codemirror_mode": {
    "name": "ipython",
    "version": 3
   },
   "file_extension": ".py",
   "mimetype": "text/x-python",
   "name": "python",
   "nbconvert_exporter": "python",
   "pygments_lexer": "ipython3",
   "version": "3.7.0"
  }
 },
 "nbformat": 4,
 "nbformat_minor": 4
}
