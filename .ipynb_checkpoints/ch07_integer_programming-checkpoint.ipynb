{
 "cells": [
  {
   "cell_type": "markdown",
   "metadata": {},
   "source": [
    "# 整数計画"
   ]
  },
  {
   "cell_type": "markdown",
   "metadata": {},
   "source": [
    "1. ソルバー\n",
    "- SCIPは非商業的な利用は無償で、非商用ソルバーの中では最も高速なものの一つ\n",
    "- GLPKも手軽に使えるが性能はSCUPに劣る\n",
    "- IBM ILOG CPLEXは商用ソルバーだが、IBM Academic Initiative Programへの登録により無償で入手可能\n",
    "- MOSEKも商用だがアカデミックライセンスは無償\n",
    "- Gurobi Optimizerは商用ソルバー（アカデミック環境では6ヶ月無料）\n",
    "\n",
    "2. LPファイル形式\n",
    "最適化問題をソルバーに入力する形式\n",
    "$$\n",
    " \\begin{equation*}\n",
    "     \\begin{aligned}\n",
    "         & \\text{Maximize}\n",
    "             & 70x_1+30x_2 \\\\\n",
    "         & \\text{subject to}\n",
    "             & 5x_1+2x_2 \\le 80 \\\\\n",
    "             && x_1+3x_2 \\le 40 \\\\\n",
    "             && 3x_1+7x_2 \\le 70 \\\\\n",
    "             && x_1 \\ge 0, x_2 \\ge 0\n",
    "     \\end{aligned}\n",
    " \\end{equation*}\n",
    "$$"
   ]
  },
  {
   "cell_type": "markdown",
   "metadata": {},
   "source": [
    "線形計画の例(product1.lp)"
   ]
  },
  {
   "cell_type": "code",
   "execution_count": null,
   "metadata": {},
   "outputs": [],
   "source": [
    "\\ ( \\ の あ と は 行 の 終 わ り ま で コ メ ン ト ）\n",
    "Maximize                 \\ 最大化問題であることを示す．\n",
    " obj : 70 x_1 + 30 x_2 \\ 目的関数を書く．\n",
    "                           \\ 空行があってもよい．\n",
    "Subject to \\ ここから制約条件の記述が始まる．\n",
    " 5 x_1 + 2 x_2 <= 80 \\ 最初の制約式を書く．\n",
    " x_1 + 3 x_2 <= 40 \\ 係数1は省略してもよい．\n",
    " 3 x_1\n",
    " + 7 x_2 <= 70 \\ 一つの制約式が複数行にまたがってもよい．\n",
    "\n",
    "Bounds \\ ここから変数の上下限値の記述が始まる．\n",
    " 0 <= x_1\n",
    " 0 <= x_2\n",
    "\n",
    "End \\ ファイルの終わりを表す．"
   ]
  },
  {
   "cell_type": "markdown",
   "metadata": {},
   "source": [
    "2.2 実行方法"
   ]
  },
  {
   "cell_type": "markdown",
   "metadata": {},
   "source": [
    "**SCIP**を実行するにはSCIPのコマンドウィンドウで次のようにタイプする。"
   ]
  },
  {
   "cell_type": "code",
   "execution_count": null,
   "metadata": {},
   "outputs": [],
   "source": [
    "SCIP> read product1.lp\n",
    "SCIP> optimize\n",
    "SCIP> display solution\n",
    "SCIP> write solution product1_scip.sol"
   ]
  },
  {
   "cell_type": "markdown",
   "metadata": {},
   "source": [
    "すると、ファイル\"product1_scip.sol\"は次のように保存される。"
   ]
  },
  {
   "cell_type": "code",
   "execution_count": null,
   "metadata": {},
   "outputs": [],
   "source": [
    "'product1_scip.sol’\n",
    "1 solution status: optimal solution found\n",
    "2 objective value: 1127.58620689655\n",
    "3 x_1 14.4827586206897 (obj:70)\n",
    "4 x_2 3.79310344827586 (obj:30)"
   ]
  },
  {
   "cell_type": "markdown",
   "metadata": {},
   "source": [
    "**CPLEX**もほぼ同じ"
   ]
  },
  {
   "cell_type": "code",
   "execution_count": null,
   "metadata": {},
   "outputs": [],
   "source": [
    "CPLEX> read product1.lp\n",
    "CPLEX> optimize\n",
    "CPLEX> display solution variable -\n",
    "CPLEX> write product1_cplex.sol"
   ]
  },
  {
   "cell_type": "markdown",
   "metadata": {},
   "source": [
    "ファイル\"product1_cplex.sol\"には最適解の情報がxml形式で保存される。"
   ]
  },
  {
   "cell_type": "markdown",
   "metadata": {},
   "source": [
    "**GLPK**を使う場合"
   ]
  },
  {
   "cell_type": "code",
   "execution_count": null,
   "metadata": {},
   "outputs": [],
   "source": [
    ">glpsol --cpxlp product1.lp -O sulution.txt"
   ]
  },
  {
   "cell_type": "markdown",
   "metadata": {},
   "source": [
    "2.3. LPファイル形式\n",
    "\n",
    "* 目的関数のセクション  \n",
    "最小化問題では'Minimize'、最大化問題では'Maximize'で書き始める  \n",
    "変数名は16文字以下  \n",
    "演算子と変数の間や、係数と変数の間には、半角スペースを入れる。目的関数は複数行にまたがってもよい。ただし、一つの変数名の途中に改行を入れてはいけない。\n",
    "\n",
    "* 制約のセクション  \n",
    "'Subject to'に続いて制約式を書き並べる  \n",
    "それぞれの制約式に名前をつけることもできる。その場合、制約式の左に'名前:'とする。  \n",
    "一つの制約式は、新しい行から書き始める。  \n",
    "制約式は等号\"=\"か不等号\">=\", \"<=\"を用いて記述する。変数を含む項は等号や不等号の左辺にまとめる。変数を含まない項は等号や不等号の右辺にまとめる。\n",
    "\n",
    "* 変数の上下限セクション  \n",
    "'Bound'に続いてそれぞれの変数の上下限値制約を書き並べる  \n",
    "上限値と下限値の両方を指定するときは、\"2 <= x_1 <= 3.5\"のように書く。  \n",
    "このセクションに登場しない変数は、非負変数であるとみなされる。  \n",
    "自由変数（上下限値がない変数）は、'-inf <= x_2 <= inf'と書くか、'x_2 free'と書く。  \n",
    "\n",
    "* 変数型のセクション  \n",
    "問題に整数変数がある場合には、変数型を指定する。  \n",
    "'Binary'に続いて、0-1変数の変数名を並べる。  \n",
    "'General'に続いて、整数変数の変数名を並べる。なお、負の整数値も許す変数の場合には、「変数の上下限セクション」でそのように指定する必要がある。  \n",
    "\n",
    "* ファイルの最後には'End'と書く"
   ]
  },
  {
   "cell_type": "markdown",
   "metadata": {},
   "source": [
    "混合整数計画の例(mip_example.lp)  \n",
    "実数変数$x_1,x_2,x_3$と整数変数$x_4$をもつ混合整数計画問題をLP形式で記述する。\n",
    "\n",
    "$$\n",
    " \\begin{equation*}\n",
    "     \\begin{aligned}\n",
    "         & \\text{Maximize}\n",
    "             & x_1+2x_2+3x_3+4x_4 \\\\\n",
    "         & \\text{subject to}\n",
    "             & -x_1+x_2+x_3+10x_4 \\le 20 \\\\\n",
    "             && x_1-3x_2+x_3 \\le 30 \\\\\n",
    "             && x_2-3.5x_4 = 0 \\\\\n",
    "             && 0 \\le x_1 \\le 40 , \\ x_2 \\ge 0, \\ x_3 \\ge 0, \\ 2 \\le x_4 \\le 3, \\ x_4 \\in \\mathbb{Z}\n",
    "     \\end{aligned}\n",
    " \\end{equation*}\n",
    "$$"
   ]
  },
  {
   "cell_type": "code",
   "execution_count": null,
   "metadata": {},
   "outputs": [],
   "source": [
    "Maximize\n",
    " obj: x1 + 2 x2 + 3 x3 + 4 x4\n",
    "Subject to\n",
    " c1: - x1 + x2 + x3 + 10 x4 <= 20\n",
    " c2: x1 - 3 x2 + x3 <= 30\n",
    " c3: x2 - 3.5 x4 = 0\n",
    "Bounds\n",
    " 0 <= x1 <= 40\n",
    " 2 <= x4 <= 3\n",
    "General\n",
    " x4\n",
    "End"
   ]
  },
  {
   "cell_type": "code",
   "execution_count": null,
   "metadata": {},
   "outputs": [],
   "source": []
  }
 ],
 "metadata": {
  "kernelspec": {
   "display_name": "Python 3",
   "language": "python",
   "name": "python3"
  },
  "language_info": {
   "codemirror_mode": {
    "name": "ipython",
    "version": 3
   },
   "file_extension": ".py",
   "mimetype": "text/x-python",
   "name": "python",
   "nbconvert_exporter": "python",
   "pygments_lexer": "ipython3",
   "version": "3.7.0"
  }
 },
 "nbformat": 4,
 "nbformat_minor": 4
}
