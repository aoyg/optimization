{
 "cells": [
  {
   "cell_type": "markdown",
   "metadata": {},
   "source": [
    "# NetworkXによるネットワーク計画の解き方"
   ]
  },
  {
   "cell_type": "markdown",
   "metadata": {},
   "source": [
    "<img src=img/network.png>"
   ]
  },
  {
   "cell_type": "code",
   "execution_count": 1,
   "metadata": {},
   "outputs": [
    {
     "name": "stdout",
     "output_type": "stream",
     "text": [
      "['v1', 'v3', 'v5']\n"
     ]
    }
   ],
   "source": [
    "import networkx as nx\n",
    "G = nx.DiGraph() # 空な有効グラフを生成\n",
    "G.add_nodes_from([ 'v1','v2','v3','v4','v5' ]) # Gに頂点を追加\n",
    "G.add_weighted_edges_from([ ('v1','v2',40.0), \\\n",
    "      ('v1','v3',20.0), ('v2','v4',10.0), \\\n",
    "      ('v2','v5',25.0), ('v3','v2',15.0), \\\n",
    "      ('v3','v5',35.0), ('v4','v5',20.0) ]) # Gに辺とその重みを追加\n",
    "print( nx.dijkstra_path(G,'v1','v5') ) # ダイクストラ法の実行と最適解の出力"
   ]
  },
  {
   "cell_type": "markdown",
   "metadata": {},
   "source": [
    "$v_1\\rightarrow v_3\\rightarrow v_5$が最適解であることがわかる。"
   ]
  },
  {
   "cell_type": "markdown",
   "metadata": {},
   "source": [
    "<img src=img/spanning_tree.png>"
   ]
  },
  {
   "cell_type": "code",
   "execution_count": 2,
   "metadata": {},
   "outputs": [
    {
     "name": "stdout",
     "output_type": "stream",
     "text": [
      "[(1, 2, {'weight': 5.0}), (2, 4, {'weight': 3.0}), (3, 5, {'weight': 2.0}), (4, 5, {'weight': 1.0}), (5, 6, {'weight': 9.0})]\n"
     ]
    }
   ],
   "source": [
    "import networkx as nx\n",
    "G = nx.Graph() # 空な無向グラフGを作成\n",
    "G.add_nodes_from([ 1,2,3,4,5,6 ])# Gに頂点を追加\n",
    "G.add_weighted_edges_from([ (1,2,5.0), (1,3,7.0), \\\n",
    "      (2,3,6.0), (2,4,3.0), (2,5,4.0), (3,4,8.0), \\\n",
    "      (3,5,2.0), (4,5,1.0), (4,6,10.0), (5,6,9.0) ]) # Gに辺とその重みを追加\n",
    "T = nx.minimum_spanning_tree(G) # クラスかるのアルゴリズムを実行\n",
    "print( T.edges(data=True) ) # 最適化の出力"
   ]
  },
  {
   "cell_type": "markdown",
   "metadata": {},
   "source": [
    "最小木の辺は$(1,2),(2,4),(3,5),(4,5),(5,6)$であることがわかる。"
   ]
  },
  {
   "cell_type": "markdown",
   "metadata": {},
   "source": [
    "## 最小費用流問題"
   ]
  },
  {
   "cell_type": "markdown",
   "metadata": {},
   "source": [
    "NetworkXには単体法を用いた最小費用流問題の解放が実装されている"
   ]
  },
  {
   "cell_type": "code",
   "execution_count": 3,
   "metadata": {},
   "outputs": [
    {
     "name": "stdout",
     "output_type": "stream",
     "text": [
      "{'v1': {'v2': 3.0, 'v3': 3.0}, 'v2': {'v3': 1.0, 'v4': 0}, 'v3': {'v4': 4.0}, 'v4': {}}\n"
     ]
    }
   ],
   "source": [
    "import networkx as nx\n",
    "G = nx.DiGraph()\n",
    "G.add_node('v1', demand = -6.0)\n",
    "G.add_node('v2', demand =  2.0)\n",
    "G.add_node('v3', demand =  0.0)\n",
    "G.add_node('v4', demand =  4.0)\n",
    "G.add_edge('v1', 'v2', weight = 20.0, capacity = 4.0)\n",
    "G.add_edge('v1', 'v3', weight = 30.0, capacity = 3.0)\n",
    "G.add_edge('v2', 'v3', weight = 10.0, capacity = 3.0)\n",
    "G.add_edge('v2', 'v4', weight = 50.0, capacity = 4.0)\n",
    "G.add_edge('v3', 'v4', weight = 40.0, capacity = 6.0)\n",
    "flowDict = nx.min_cost_flow(G)\n",
    "print(flowDict)"
   ]
  },
  {
   "cell_type": "code",
   "execution_count": null,
   "metadata": {},
   "outputs": [],
   "source": []
  }
 ],
 "metadata": {
  "kernelspec": {
   "display_name": "Python 3",
   "language": "python",
   "name": "python3"
  },
  "language_info": {
   "codemirror_mode": {
    "name": "ipython",
    "version": 3
   },
   "file_extension": ".py",
   "mimetype": "text/x-python",
   "name": "python",
   "nbconvert_exporter": "python",
   "pygments_lexer": "ipython3",
   "version": "3.7.0"
  }
 },
 "nbformat": 4,
 "nbformat_minor": 4
}
