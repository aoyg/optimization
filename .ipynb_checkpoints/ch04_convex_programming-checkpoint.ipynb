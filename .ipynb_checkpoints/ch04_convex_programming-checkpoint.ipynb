{
 "cells": [
  {
   "cell_type": "markdown",
   "metadata": {},
   "source": [
    "# 凸計画問題"
   ]
  },
  {
   "cell_type": "markdown",
   "metadata": {},
   "source": [
    "$r$個のデータ$\\boldsymbol{s}_l \\in \\mathbb{R}^d \\ (l=1,...,r)$が与えられているとき、ある意味でこのデータの中心とみなせる点$\\boldsymbol{v} \\in \\mathbb{R}^d$を求めることを考える。データ点からのユークリッド距離の総和が最小になる点を求める。次の2次錘計画問題として定式化できる。\n",
    "$$\n",
    " \\begin{equation*}\n",
    "       \\begin{aligned}\n",
    "           & \\text{Minimize}\n",
    "               & \\sum_{l=1}^{r} z_l \\\\\n",
    "           & \\text{subject to}\n",
    "               & z_l &\\ge \\|\\boldsymbol{v}-\\boldsymbol{s}_l\\|_2, \\ \\ l=1,...r \\\\\n",
    "       \\end{aligned}\n",
    "   \\end{equation*}\n",
    "$$\n",
    "\n",
    "変数は$\\boldsymbol{v} \\in \\mathbb{R}^d$および$z_1,...,z_r \\in \\mathbb{R}$"
   ]
  },
  {
   "cell_type": "code",
   "execution_count": 1,
   "metadata": {},
   "outputs": [],
   "source": [
    "import cvxpy as cp\n",
    "import numpy as np"
   ]
  },
  {
   "cell_type": "code",
   "execution_count": 2,
   "metadata": {},
   "outputs": [
    {
     "name": "stdout",
     "output_type": "stream",
     "text": [
      "\n",
      "ECOS 2.0.7 - (C) embotech GmbH, Zurich Switzerland, 2012-15. Web: www.embotech.com/ECOS\n",
      "\n",
      "It     pcost       dcost      gap   pres   dres    k/t    mu     step   sigma     IR    |   BT\n",
      " 0  +0.000e+00  -0.000e+00  +3e+01  5e-01  3e-03  1e+00  3e+00    ---    ---    1  1  - |  -  - \n",
      " 1  +4.870e+00  +4.916e+00  +6e+00  1e-01  5e-04  2e-01  5e-01  0.8507  3e-02   2  2  2 |  0  0\n",
      " 2  +8.344e+00  +8.353e+00  +4e-01  5e-03  3e-05  2e-02  3e-02  0.9555  2e-02   2  2  2 |  0  0\n",
      " 3  +8.463e+00  +8.464e+00  +4e-02  6e-04  3e-06  2e-03  4e-03  0.8879  6e-03   2  1  1 |  0  0\n",
      " 4  +8.475e+00  +8.475e+00  +2e-03  4e-05  2e-07  2e-04  2e-04  0.9625  2e-02   2  1  1 |  0  0\n",
      " 5  +8.476e+00  +8.476e+00  +1e-04  1e-06  7e-09  7e-06  1e-05  0.9584  1e-04   2  1  1 |  0  0\n",
      " 6  +8.476e+00  +8.476e+00  +2e-05  3e-07  2e-09  2e-06  2e-06  0.8077  2e-02   2  1  1 |  0  0\n",
      " 7  +8.476e+00  +8.476e+00  +9e-06  1e-07  6e-10  7e-07  9e-07  0.6388  9e-02   2  1  1 |  0  0\n",
      " 8  +8.476e+00  +8.476e+00  +4e-07  5e-09  3e-11  3e-08  4e-08  0.9616  3e-03   2  1  1 |  0  0\n",
      " 9  +8.476e+00  +8.476e+00  +4e-08  6e-10  4e-12  3e-09  4e-09  0.8883  3e-03   1  1  1 |  0  0\n",
      "\n",
      "OPTIMAL (within feastol=6.1e-10, reltol=4.9e-09, abstol=4.2e-08).\n",
      "Runtime: 0.000543 seconds.\n",
      "\n",
      "[3.32670231 2.33940919]\n"
     ]
    }
   ],
   "source": [
    "S = np.array([\n",
    "    [2.0, 4.0, 5.0, 1.0, 3.0],\n",
    "    [4.0, 2.0, 3.0, 3.0, 1.0] ])\n",
    "d, r = S.shape[0], S.shape[1]\n",
    "v, z = cp.Variable(d), cp.Variable(r)\n",
    "obj  = cp.Minimize( sum(z) )\n",
    "cons = []\n",
    "for l in range(0,r):\n",
    "    cons += [\n",
    "        z[l] >= cp.norm(v - S[:,l])\n",
    "    ]\n",
    "P = cp.Problem(obj, cons)\n",
    "P.solve(verbose=True)\n",
    "print(v.value)"
   ]
  },
  {
   "cell_type": "code",
   "execution_count": 3,
   "metadata": {},
   "outputs": [
    {
     "name": "stderr",
     "output_type": "stream",
     "text": [
      "/home/ao/anaconda3/lib/python3.7/site-packages/ipykernel_launcher.py:3: DeprecationWarning: np.asscalar(a) is deprecated since NumPy v1.16, use a.item() instead\n",
      "  This is separate from the ipykernel package so we can avoid doing imports until\n"
     ]
    },
    {
     "data": {
      "image/png": "[encoded data removed]",
      "text/plain": [
       "<Figure size 432x288 with 1 Axes>"
      ]
     },
     "metadata": {
      "needs_background": "light"
     },
     "output_type": "display_data"
    }
   ],
   "source": [
    "import matplotlib.pyplot as plt\n",
    "plt.scatter(S[0,:], S[1,:])\n",
    "plt.scatter(np.asscalar(v.value[0]), np.asscalar(v.value[1]), marker='*', c='r', s=200)\n",
    "plt.show()"
   ]
  },
  {
   "cell_type": "markdown",
   "metadata": {},
   "source": [
    "行列$A \\in \\mathbb{R}^{m \\times n} \\ (m>n)$とベクトル$\\boldsymbol{b} \\in \\mathbb{R}^m$が与えてられているとき、**平方根LASSO**というデータ解析法では以下の最適化問題を解く。\n",
    "$$\n",
    " \\begin{equation*}\n",
    "       \\begin{aligned}\n",
    "           & \\text{Minimize}\n",
    "               & \\|A\\boldsymbol{x}-\\boldsymbol{b}\\|_2+\\gamma\\|\\boldsymbol{x}\\|_1 \\\\\n",
    "       \\end{aligned}\n",
    "   \\end{equation*}\n",
    "$$\n",
    "\n",
    "ただし、$\\gamma>0$は定数。この問題は次の2次錘計画問題に帰着できる。\n",
    "\n",
    "$$\n",
    " \\begin{equation*}\n",
    "       \\begin{aligned}\n",
    "           & \\text{Minimize}\n",
    "               & z+\\sum_{j=1}^{n}\\gamma w_j \\\\\n",
    "           & \\text{subject to}\n",
    "               & z &\\ge \\|A\\boldsymbol{x}-\\boldsymbol{b}\\|_2 \\\\\n",
    "               && w_j &\\ge |x_j|, \\ \\ j=1,...n\n",
    "       \\end{aligned}\n",
    "   \\end{equation*}\n",
    "$$\n",
    "\n",
    "ただし、変数は$\\boldsymbol{x} \\in \\mathbb{R}^n$および$z, w_1,...,w_n \\in \\mathbb{R}$"
   ]
  },
  {
   "cell_type": "code",
   "execution_count": 4,
   "metadata": {},
   "outputs": [],
   "source": [
    "import cvxpy as cp\n",
    "import numpy as np"
   ]
  },
  {
   "cell_type": "code",
   "execution_count": 5,
   "metadata": {},
   "outputs": [
    {
     "name": "stdout",
     "output_type": "stream",
     "text": [
      "\n",
      "ECOS 2.0.7 - (C) embotech GmbH, Zurich Switzerland, 2012-15. Web: www.embotech.com/ECOS\n",
      "\n",
      "It     pcost       dcost      gap   pres   dres    k/t    mu     step   sigma     IR    |   BT\n",
      " 0  -5.204e-19  -9.535e-20  +4e+01  8e-01  3e-03  1e+00  2e+00    ---    ---    1  1  - |  -  - \n",
      " 1  +1.789e+01  +1.796e+01  +7e+00  6e-02  4e-04  2e-01  4e-01  0.8802  6e-02   2  2  2 |  0  0\n",
      " 2  +1.973e+01  +1.973e+01  +5e-01  4e-03  3e-05  2e-02  3e-02  0.9261  6e-04   2  1  1 |  0  0\n",
      " 3  +1.988e+01  +1.988e+01  +1e-02  1e-04  8e-07  6e-04  8e-04  0.9808  8e-03   2  1  1 |  0  0\n",
      " 4  +1.988e+01  +1.988e+01  +1e-03  1e-05  8e-08  6e-05  7e-05  0.9056  4e-03   2  1  1 |  0  0\n",
      " 5  +1.988e+01  +1.988e+01  +2e-04  2e-06  1e-08  1e-05  1e-05  0.9022  8e-02   2  1  1 |  0  0\n",
      " 6  +1.988e+01  +1.988e+01  +6e-05  5e-07  4e-09  3e-06  3e-06  0.8130  1e-01   2  1  1 |  0  0\n",
      " 7  +1.988e+01  +1.988e+01  +3e-06  3e-08  2e-10  2e-07  2e-07  0.9494  4e-04   1  1  1 |  0  0\n",
      " 8  +1.988e+01  +1.988e+01  +2e-07  2e-09  2e-11  1e-08  1e-08  0.9890  7e-02   1  1  1 |  0  0\n",
      " 9  +1.988e+01  +1.988e+01  +1e-08  9e-11  7e-13  6e-10  6e-10  0.9555  1e-04   2  1  1 |  0  0\n",
      "\n",
      "OPTIMAL (within feastol=9.3e-11, reltol=5.3e-10, abstol=1.0e-08).\n",
      "Runtime: 0.000497 seconds.\n",
      "\n",
      "[-2.23698724 -2.4425217   2.08640627  0.03658445 -1.44480975]\n"
     ]
    }
   ],
   "source": [
    "m, n, g = 10, 5, 0.1\n",
    "np.random.seed(1)\n",
    "A, b = np.random.randn(m,n), 10 * np.random.randn(m)\n",
    "x = cp.Variable(n)\n",
    "z = cp.Variable()\n",
    "w = cp.Variable(n)\n",
    "obj  = cp.Minimize( z + (g * sum(w)) )\n",
    "cons = [z >= cp.norm(A @ x - b),\n",
    "        w >= cp.abs(x)]\n",
    "P = cp.Problem(obj, cons)\n",
    "P.solve(verbose=True)\n",
    "print(x.value)"
   ]
  },
  {
   "cell_type": "markdown",
   "metadata": {},
   "source": [
    "より簡潔に以下のように記述することもできる。"
   ]
  },
  {
   "cell_type": "code",
   "execution_count": 6,
   "metadata": {},
   "outputs": [
    {
     "name": "stdout",
     "output_type": "stream",
     "text": [
      "\n",
      "ECOS 2.0.7 - (C) embotech GmbH, Zurich Switzerland, 2012-15. Web: www.embotech.com/ECOS\n",
      "\n",
      "It     pcost       dcost      gap   pres   dres    k/t    mu     step   sigma     IR    |   BT\n",
      " 0  +0.000e+00  -0.000e+00  +2e+02  9e-01  6e-01  1e+00  4e+00    ---    ---    1  1  - |  -  - \n",
      " 1  +2.090e+01  +2.113e+01  +3e+01  8e-02  7e-02  4e-01  5e-01  0.9260  7e-02   2  2  2 |  0  0\n",
      " 2  +2.066e+01  +2.079e+01  +4e+00  1e-02  2e-02  2e-01  8e-02  0.8627  2e-02   2  1  1 |  0  0\n",
      " 3  +2.009e+01  +2.017e+01  +2e+00  7e-03  1e-02  1e-01  3e-02  0.6867  1e-01   1  1  1 |  0  0\n",
      " 4  +1.991e+01  +1.992e+01  +2e-01  7e-04  1e-03  6e-03  4e-03  0.9271  4e-02   2  1  1 |  0  0\n",
      " 5  +1.988e+01  +1.988e+01  +2e-02  5e-05  8e-05  2e-04  3e-04  0.9333  2e-02   2  1  1 |  0  0\n",
      " 6  +1.988e+01  +1.988e+01  +5e-04  2e-06  3e-06  1e-05  1e-05  0.9771  1e-02   2  1  1 |  0  0\n",
      " 7  +1.988e+01  +1.988e+01  +6e-05  2e-07  3e-07  2e-06  1e-06  0.8809  5e-03   2  1  1 |  0  0\n",
      " 8  +1.988e+01  +1.988e+01  +1e-05  5e-08  7e-08  4e-07  3e-07  0.9010  1e-01   1  1  1 |  0  0\n",
      " 9  +1.988e+01  +1.988e+01  +2e-06  5e-09  8e-09  5e-08  3e-08  0.8896  3e-03   1  1  1 |  0  0\n",
      "10  +1.988e+01  +1.988e+01  +2e-07  7e-10  1e-09  7e-09  4e-09  0.9592  9e-02   2  1  1 |  0  0\n",
      "\n",
      "OPTIMAL (within feastol=1.1e-09, reltol=1.0e-08, abstol=2.0e-07).\n",
      "Runtime: 0.000803 seconds.\n",
      "\n",
      "[-2.2369218  -2.44242992  2.08636147  0.03660057 -1.44478599]\n"
     ]
    }
   ],
   "source": [
    "m, n, g = 10, 5, 0.1\n",
    "np.random.seed(1)\n",
    "A, b = np.random.randn(m,n), 10 * np.random.randn(m)\n",
    "x = cp.Variable(n)\n",
    "obj  = cp.Minimize( cp.norm(A @ x - b) \\\n",
    "                    + (g * sum(cp.abs(x))) )\n",
    "P = cp.Problem(obj)\n",
    "P.solve(verbose=True)\n",
    "print(x.value)"
   ]
  },
  {
   "cell_type": "code",
   "execution_count": null,
   "metadata": {},
   "outputs": [],
   "source": []
  }
 ],
 "metadata": {
  "kernelspec": {
   "display_name": "Python 3",
   "language": "python",
   "name": "python3"
  },
  "language_info": {
   "codemirror_mode": {
    "name": "ipython",
    "version": 3
   },
   "file_extension": ".py",
   "mimetype": "text/x-python",
   "name": "python",
   "nbconvert_exporter": "python",
   "pygments_lexer": "ipython3",
   "version": "3.7.0"
  }
 },
 "nbformat": 4,
 "nbformat_minor": 4
}
