{
 "cells": [
  {
   "cell_type": "markdown",
   "metadata": {},
   "source": [
    "# 凸2次計画問題"
   ]
  },
  {
   "cell_type": "markdown",
   "metadata": {},
   "source": [
    "$$\n",
    " \\begin{equation*}\n",
    "    \\begin{aligned}\n",
    "        & \\text{Minimize}\n",
    "            & \\frac{1}{2}\\boldsymbol{x}^{T}Q\\boldsymbol{x} + \\boldsymbol{c}^{T}\\boldsymbol{x} \\\\\n",
    "        & \\text{subject to}\n",
    "            & A\\boldsymbol{x}=\\boldsymbol{b} \\\\\n",
    "            && \\boldsymbol{x} \\geq \\boldsymbol{0}\n",
    "    \\end{aligned}   \n",
    " \\end{equation*}\n",
    "$$"
   ]
  },
  {
   "cell_type": "markdown",
   "metadata": {},
   "source": [
    "### 回帰分析と正則化\n",
    "回帰分析も凸2次計画問題に帰着できる。"
   ]
  },
  {
   "cell_type": "code",
   "execution_count": 5,
   "metadata": {},
   "outputs": [
    {
     "name": "stdout",
     "output_type": "stream",
     "text": [
      "-----------------------------------------------------------------\n",
      "           OSQP v0.6.0  -  Operator Splitting QP Solver\n",
      "              (c) Bartolomeo Stellato,  Goran Banjac\n",
      "        University of Oxford  -  Stanford University 2019\n",
      "-----------------------------------------------------------------\n",
      "problem:  variables n = 402, constraints m = 400\n",
      "          nnz(P) + nnz(A) = 1220\n",
      "settings: linear system solver = qdldl,\n",
      "          eps_abs = 1.0e-05, eps_rel = 1.0e-05,\n",
      "          eps_prim_inf = 1.0e-04, eps_dual_inf = 1.0e-04,\n",
      "          rho = 1.00e-01 (adaptive),\n",
      "          sigma = 1.00e-06, alpha = 1.60, max_iter = 10000\n",
      "          check_termination: on (interval 25),\n",
      "          scaling: on, scaled_termination: off\n",
      "          warm start: on, polish: on, time_limit: off\n",
      "\n",
      "iter   objective    pri res    dua res    rho        time\n",
      "   1   0.0000e+00   2.53e+01   3.88e+05   1.00e-01   3.83e-04s\n",
      "  50   2.9533e+00   1.33e-06   5.23e-06   1.74e-03   1.13e-03s\n",
      "plsh   2.9533e+00   5.39e-15   2.53e-13   --------   3.52e-03s\n",
      "\n",
      "status:               solved\n",
      "solution polish:      successful\n",
      "number of iterations: 50\n",
      "optimal objective:    2.9533\n",
      "run time:             3.52e-03s\n",
      "optimal rho estimate: 2.30e-04\n",
      "\n",
      "[-1.10127789e+01 -1.07455287e-03]\n"
     ]
    },
    {
     "name": "stderr",
     "output_type": "stream",
     "text": [
      "/home/ao/anaconda3/lib/python3.7/site-packages/ipykernel/ipkernel.py:287: DeprecationWarning: `should_run_async` will not call `transform_cell` automatically in the future. Please pass the result to `transformed_cell` argument and any exception that happen during thetransform in `preprocessing_exc_tuple` in IPython 7.17 and above.\n",
      "  and should_run_async(code)\n"
     ]
    }
   ],
   "source": [
    "import cvxpy as cp\n",
    "import numpy as np\n",
    "\n",
    "r = 20\n",
    "np.random.seed(1)\n",
    "\n",
    "A = np.hstack((np.random.randn(r,1), np.ones([r,1])))\n",
    "c = A[:,0]\n",
    "b = (10.0*np.random.randn() * c) + \\\n",
    "        + (0.5*np.random.randn(r))\n",
    "\n",
    "x = cp.Variable(2)\n",
    "\n",
    "obj  = cp.Minimize( sum(cp.square(A@x-b)) )\n",
    "P = cp.Problem(obj)\n",
    "P.solve(verbose=True)\n",
    "print(x.value)"
   ]
  },
  {
   "cell_type": "code",
   "execution_count": 6,
   "metadata": {},
   "outputs": [
    {
     "name": "stderr",
     "output_type": "stream",
     "text": [
      "/home/ao/anaconda3/lib/python3.7/site-packages/ipykernel_launcher.py:3: DeprecationWarning: np.asscalar(a) is deprecated since NumPy v1.16, use a.item() instead\n",
      "  This is separate from the ipykernel package so we can avoid doing imports until\n"
     ]
    },
    {
     "data": {
      "image/png": "[encoded data removed]",
      "text/plain": [
       "<Figure size 432x288 with 1 Axes>"
      ]
     },
     "metadata": {
      "needs_background": "light"
     },
     "output_type": "display_data"
    }
   ],
   "source": [
    "import matplotlib.pyplot as plt\n",
    "s = np.arange(c.min()-0.3, c.max()+0.3, 0.1)\n",
    "t = np.asscalar(x.value[0]) * s + np.asscalar(x.value[1])\n",
    "plt.plot(s, t)\n",
    "plt.plot(c.T, b, 'ro')\n",
    "plt.show()"
   ]
  },
  {
   "cell_type": "markdown",
   "metadata": {},
   "source": [
    "$l_2$ノルム正則化付き最小二乗法（LASSO）\n",
    "\n",
    "$$\n",
    " \\begin{equation*}\n",
    "    \\begin{aligned}\n",
    "        & \\text{Minimize}\n",
    "            & \\|A\\boldsymbol{x}-\\boldsymbol{b}\\|^{2}_{2} + \\gamma \\|\\boldsymbol{x}\\|_{1} \\\\\n",
    "    \\end{aligned}\n",
    " \\end{equation*}\n",
    "$$\n",
    "\n",
    "$z$を導入して、\n",
    "$$\n",
    " \\begin{equation*}\n",
    "       \\begin{aligned}\n",
    "           & \\text{Minimize}\n",
    "               & \\|A\\boldsymbol{x}-\\boldsymbol{b}\\|^{2}_{2} + \\gamma \\boldsymbol{1}^{T}\\boldsymbol{z} \\\\\n",
    "           & \\text{subject to}\n",
    "               & \\boldsymbol{z}&\\geq \\boldsymbol{x} \\\\\n",
    "               && \\boldsymbol{z} &\\geq -\\boldsymbol{x} \\\\\n",
    "       \\end{aligned}\n",
    "   \\end{equation*}\n",
    "$$"
   ]
  },
  {
   "cell_type": "code",
   "execution_count": 9,
   "metadata": {},
   "outputs": [
    {
     "name": "stdout",
     "output_type": "stream",
     "text": [
      "-----------------------------------------------------------------\n",
      "           OSQP v0.6.0  -  Operator Splitting QP Solver\n",
      "              (c) Bartolomeo Stellato,  Goran Banjac\n",
      "        University of Oxford  -  Stanford University 2019\n",
      "-----------------------------------------------------------------\n",
      "problem:  variables n = 110, constraints m = 110\n",
      "          nnz(P) + nnz(A) = 630\n",
      "settings: linear system solver = qdldl,\n",
      "          eps_abs = 1.0e-05, eps_rel = 1.0e-05,\n",
      "          eps_prim_inf = 1.0e-04, eps_dual_inf = 1.0e-04,\n",
      "          rho = 1.00e-01 (adaptive),\n",
      "          sigma = 1.00e-06, alpha = 1.60, max_iter = 10000\n",
      "          check_termination: on (interval 25),\n",
      "          scaling: on, scaled_termination: off\n",
      "          warm start: on, polish: on, time_limit: off\n",
      "\n",
      "iter   objective    pri res    dua res    rho        time\n",
      "   1  -4.0000e+03   1.86e+02   2.79e+07   1.00e-01   2.56e-04s\n",
      "  50   4.9418e+04   6.76e-04   3.76e-04   3.03e-03   4.92e-04s\n",
      "plsh   4.9418e+04   2.39e-14   2.98e-11   --------   6.90e-04s\n",
      "\n",
      "status:               solved\n",
      "solution polish:      successful\n",
      "number of iterations: 50\n",
      "optimal objective:    49417.9035\n",
      "run time:             6.90e-04s\n",
      "optimal rho estimate: 5.33e-03\n",
      "\n",
      "[ 1.71104966e+01 -4.79152770e+01 -2.94882077e+01  2.98957921e-18\n",
      " -1.29779456e-18]\n"
     ]
    }
   ],
   "source": [
    "import cvxpy as cp\n",
    "import numpy as np\n",
    "m, n, gam = 10, 5, 100.0\n",
    "np.random.seed(2)\n",
    "A    = np.random.randn(m,n)\n",
    "b    = 100 * np.random.randn(m)\n",
    "x, z = cp.Variable(n), cp.Variable(n)\n",
    "obj  = cp.Minimize( sum(cp.square(A@x-b)) \\\n",
    "                    + (gam * sum(z)) )\n",
    "cons = [z >=  x,\n",
    "        z >= -x]\n",
    "P = cp.Problem(obj, cons)\n",
    "P.solve(verbose=True)\n",
    "print(x.value)"
   ]
  },
  {
   "cell_type": "code",
   "execution_count": null,
   "metadata": {},
   "outputs": [],
   "source": []
  }
 ],
 "metadata": {
  "kernelspec": {
   "display_name": "Python 3",
   "language": "python",
   "name": "python3"
  },
  "language_info": {
   "codemirror_mode": {
    "name": "ipython",
    "version": 3
   },
   "file_extension": ".py",
   "mimetype": "text/x-python",
   "name": "python",
   "nbconvert_exporter": "python",
   "pygments_lexer": "ipython3",
   "version": "3.7.0"
  }
 },
 "nbformat": 4,
 "nbformat_minor": 4
}
